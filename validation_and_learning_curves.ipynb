{
 "cells": [
  {
   "cell_type": "code",
   "execution_count": 1,
   "id": "c69dfba1-a2e3-4872-9cc0-9614a39c4961",
   "metadata": {},
   "outputs": [],
   "source": [
    "# Exercise 4: Validation curve and Learning curve"
   ]
  },
  {
   "cell_type": "code",
   "execution_count": 2,
   "id": "e2406263-d24a-4048-bfa0-72c33e943a15",
   "metadata": {},
   "outputs": [],
   "source": [
    "from sklearn.datasets import make_classification\n",
    "from sklearn.ensemble import RandomForestClassifier\n",
    "from sklearn.model_selection import validation_curve, learning_curve\n",
    "import numpy as np\n",
    "import matplotlib.pyplot as plt"
   ]
  },
  {
   "cell_type": "code",
   "execution_count": 3,
   "id": "40c6492e-3521-4f23-b9e4-b7a9edfa7d18",
   "metadata": {},
   "outputs": [],
   "source": [
    "# Generate data\n",
    "X, y = make_classification(\n",
    "    n_samples=100000, n_features=30,\n",
    "    n_informative=10, flip_y=0.2, random_state=43\n",
    ")"
   ]
  },
  {
   "cell_type": "code",
   "execution_count": 4,
   "id": "8225a10e-716f-435b-8db0-0d72d0ad615c",
   "metadata": {},
   "outputs": [],
   "source": [
    "# 1. VALIDATION CURVE"
   ]
  },
  {
   "cell_type": "code",
   "execution_count": null,
   "id": "9e1d8236-091f-403c-9f56-e8073bd06efc",
   "metadata": {},
   "outputs": [],
   "source": [
    "# Compute training and validation scores\n",
    "param_range = np.arange(1, 21)\n",
    "train_scores, test_scores = validation_curve(\n",
    "    RandomForestClassifier(n_estimators=100, random_state=43),\n",
    "    X, y, param_name=\"max_depth\", param_range=param_range,\n",
    "    cv=5, scoring=\"accuracy\", n_jobs=-1\n",
    ")"
   ]
  },
  {
   "cell_type": "code",
   "execution_count": null,
   "id": "5c7993ba-4f5f-4d10-96f3-49f1270ef007",
   "metadata": {},
   "outputs": [],
   "source": []
  }
 ],
 "metadata": {
  "kernelspec": {
   "display_name": "Python 3 (ipykernel)",
   "language": "python",
   "name": "python3"
  },
  "language_info": {
   "codemirror_mode": {
    "name": "ipython",
    "version": 3
   },
   "file_extension": ".py",
   "mimetype": "text/x-python",
   "name": "python",
   "nbconvert_exporter": "python",
   "pygments_lexer": "ipython3",
   "version": "3.12.11"
  }
 },
 "nbformat": 4,
 "nbformat_minor": 5
}
