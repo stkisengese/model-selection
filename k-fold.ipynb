{
 "cells": [
  {
   "cell_type": "code",
   "execution_count": 1,
   "id": "5f751c52-7965-4019-a6e7-c7466c390684",
   "metadata": {},
   "outputs": [],
   "source": [
    "# Exercise 1: K-Fold"
   ]
  },
  {
   "cell_type": "code",
   "execution_count": 2,
   "id": "907bc1d6-dc11-4d30-8304-d1fa19430054",
   "metadata": {},
   "outputs": [],
   "source": [
    "import numpy as np\n",
    "from sklearn.model_selection import KFold"
   ]
  },
  {
   "cell_type": "code",
   "execution_count": 5,
   "id": "d3f027ac-6250-4fe2-bde7-c43f0681bf55",
   "metadata": {},
   "outputs": [
    {
     "data": {
      "text/plain": [
       "KFold(n_splits=5, random_state=None, shuffle=False)"
      ]
     },
     "execution_count": 5,
     "metadata": {},
     "output_type": "execute_result"
    }
   ],
   "source": [
    "# Create sample data\n",
    "X = np.array(np.arange(1, 21).reshape(10, -1))\n",
    "y = np.array(np.arange(1, 11))\n",
    "\n",
    "# Initialize KFold with 5 splits\n",
    "kf = KFold(n_splits=5)\n",
    "kf"
   ]
  },
  {
   "cell_type": "code",
   "execution_count": 6,
   "id": "923b581c-f05f-4837-8785-60535f2c3df8",
   "metadata": {},
   "outputs": [
    {
     "name": "stdout",
     "output_type": "stream",
     "text": [
      "Fold: 1\n",
      "TRAIN: [2 3 4 5 6 7 8 9] TEST: [0 1]\n",
      "\n",
      "Fold: 2\n",
      "TRAIN: [0 1 4 5 6 7 8 9] TEST: [2 3]\n",
      "\n",
      "Fold: 3\n",
      "TRAIN: [0 1 2 3 6 7 8 9] TEST: [4 5]\n",
      "\n",
      "Fold: 4\n",
      "TRAIN: [0 1 2 3 4 5 8 9] TEST: [6 7]\n",
      "\n",
      "Fold: 5\n",
      "TRAIN: [0 1 2 3 4 5 6 7] TEST: [8 9]\n",
      "\n"
     ]
    }
   ],
   "source": [
    "# Perform k-fold cross validation\n",
    "for fold, (train_index, test_index) in enumerate(kf.split(X), ):\n",
    "    print(f\"Fold: {fold}\")\n",
    "    print(f\"TRAIN: {train_index} TEST: {test_index}\")\n",
    "    print()"
   ]
  },
  {
   "cell_type": "code",
   "execution_count": null,
   "id": "aa682eee-20a9-4c1b-a6bc-61ada79f9e11",
   "metadata": {},
   "outputs": [],
   "source": []
  }
 ],
 "metadata": {
  "kernelspec": {
   "display_name": "Python 3 (ipykernel)",
   "language": "python",
   "name": "python3"
  },
  "language_info": {
   "codemirror_mode": {
    "name": "ipython",
    "version": 3
   },
   "file_extension": ".py",
   "mimetype": "text/x-python",
   "name": "python",
   "nbconvert_exporter": "python",
   "pygments_lexer": "ipython3",
   "version": "3.12.11"
  }
 },
 "nbformat": 4,
 "nbformat_minor": 5
}
