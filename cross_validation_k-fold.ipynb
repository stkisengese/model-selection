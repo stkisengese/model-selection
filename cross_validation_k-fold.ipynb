{
 "cells": [
  {
   "cell_type": "code",
   "execution_count": 1,
   "id": "11a53c78-45ff-4885-ba4e-2cb6792f544f",
   "metadata": {},
   "outputs": [],
   "source": [
    "# Exercise 2: cross validation(k-fold)"
   ]
  },
  {
   "cell_type": "code",
   "execution_count": 2,
   "id": "ac4c6a6a-57fb-488d-b660-c75f7d15fc85",
   "metadata": {},
   "outputs": [],
   "source": [
    "import numpy as np\n",
    "from sklearn.datasets import fetch_california_housing\n",
    "from sklearn.model_selection import train_test_split, cross_validate\n",
    "from sklearn.linear_model import LinearRegression\n",
    "from sklearn.preprocessing import StandardScaler\n",
    "from sklearn.impute import SimpleImputer\n",
    "from sklearn.pipeline import Pipeline"
   ]
  },
  {
   "cell_type": "code",
   "execution_count": 3,
   "id": "8dad48cb-cc12-40d8-ac51-71eb5b66e39e",
   "metadata": {},
   "outputs": [],
   "source": [
    "# Load data\n",
    "housing = fetch_california_housing()\n",
    "X, y = housing['data'], housing['target']\n",
    "\n",
    "# Split data train test\n",
    "X_train, X_test, y_train, y_test = train_test_split(\n",
    "    X, y, test_size=0.1, shuffle=True, random_state=43\n",
    ")\n",
    "\n",
    "# Create pipeline\n",
    "pipeline = [\n",
    "    ('imputer', SimpleImputer(strategy='median')),\n",
    "    ('scaler', StandardScaler()),\n",
    "    ('lr', LinearRegression())\n",
    "]\n",
    "pipe = Pipeline(pipeline)"
   ]
  },
  {
   "cell_type": "code",
   "execution_count": 5,
   "id": "2912a433-a495-49db-8386-418acc1cf7f2",
   "metadata": {},
   "outputs": [
    {
     "data": {
      "text/plain": [
       "{'fit_time': array([0.0345912 , 0.0195353 , 0.01637435, 0.01627493, 0.01626635,\n",
       "        0.01577806, 0.01615214, 0.01580238, 0.01876068, 0.01574898]),\n",
       " 'score_time': array([0.00219274, 0.00132418, 0.0015204 , 0.00138402, 0.00145698,\n",
       "        0.00126791, 0.00131583, 0.00130939, 0.00179124, 0.00128961]),\n",
       " 'test_score': array([0.62433594, 0.61648956, 0.62486602, 0.59891024, 0.59284295,\n",
       "        0.61307055, 0.54630341, 0.60742976, 0.60014575, 0.59574508])}"
      ]
     },
     "execution_count": 5,
     "metadata": {},
     "output_type": "execute_result"
    }
   ],
   "source": [
    "# Cross validate with 10 folds\n",
    "cv_results = cross_validate(\n",
    "    pipe, X_train, y_train, \n",
    "    cv=10, \n",
    "    return_train_score=False,\n",
    "    scoring='r2'  # Using R² score\n",
    ")\n",
    "cv_results"
   ]
  },
  {
   "cell_type": "code",
   "execution_count": 8,
   "id": "750271ac-b410-4de2-b9b9-729d1a998564",
   "metadata": {},
   "outputs": [
    {
     "name": "stdout",
     "output_type": "stream",
     "text": [
      "Scores on validation sets:\n",
      " [0.62433594 0.61648956 0.62486602 0.59891024 0.59284295 0.61307055\n",
      " 0.54630341 0.60742976 0.60014575 0.59574508]\n",
      "\n",
      "Mean of scores on validation sets:\n",
      " 0.6020139252674299\n",
      "\n",
      "Standard deviation of scores on validation sets:\n",
      " 0.02149838227734666\n"
     ]
    }
   ],
   "source": [
    "# Extract scores from results\n",
    "scores = cv_results['test_score']\n",
    "\n",
    "print(\"Scores on validation sets:\\n\", scores)\n",
    "print(\"\\nMean of scores on validation sets:\\n\", scores.mean())  # or np.mean(scores)\n",
    "print(\"\\nStandard deviation of scores on validation sets:\\n\", np.std(scores)) # or scores.std()\n"
   ]
  },
  {
   "cell_type": "code",
   "execution_count": 9,
   "id": "f15f1634-3299-4ea9-ad21-3301d89eda7e",
   "metadata": {},
   "outputs": [],
   "source": [
    "#  Explanation\n",
    "\n",
    "# cross_validate() splits the data into k folds (here 10) automatically.\n",
    "# Each fold acts as a validation set once while the remaining 9 folds form the training set.\n",
    "\n",
    "# The function returns a dictionary containing:\n",
    "\n",
    "## 'fit_time': time to train the model in each fold\n",
    "## 'score_time': time to evaluate\n",
    "## 'test_score': performance (R² score by default for regression)\n",
    "\n",
    "# We use only the training set (X_train) for cross-validation.\n",
    "# The test set (X_test) remains untouched for final evaluation after model selection.\n",
    "\n",
    "#  Key Learnings\n",
    "\n",
    "## Cross-validation reduces overfitting risk by validating model performance on multiple splits.\n",
    "## Mean score shows the model’s average performance.\n",
    "## Standard deviation indicates model stability — smaller values mean consistent results.\n",
    "## The key 'test_score' in results refers to the validation folds, not the final test set.\n",
    "\n",
    "# This process ensures that the model’s quality is not due to luck or a favorable split."
   ]
  },
  {
   "cell_type": "code",
   "execution_count": null,
   "id": "f3dd73ad-1a45-4306-b1f0-bb2e47df1b26",
   "metadata": {},
   "outputs": [],
   "source": []
  }
 ],
 "metadata": {
  "kernelspec": {
   "display_name": "Python 3 (ipykernel)",
   "language": "python",
   "name": "python3"
  },
  "language_info": {
   "codemirror_mode": {
    "name": "ipython",
    "version": 3
   },
   "file_extension": ".py",
   "mimetype": "text/x-python",
   "name": "python",
   "nbconvert_exporter": "python",
   "pygments_lexer": "ipython3",
   "version": "3.12.11"
  }
 },
 "nbformat": 4,
 "nbformat_minor": 5
}
