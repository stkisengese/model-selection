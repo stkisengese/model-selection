{
 "cells": [
  {
   "cell_type": "code",
   "execution_count": 1,
   "id": "11a53c78-45ff-4885-ba4e-2cb6792f544f",
   "metadata": {},
   "outputs": [],
   "source": [
    "# Exercise 2: cross validation(k-fold)"
   ]
  },
  {
   "cell_type": "code",
   "execution_count": 2,
   "id": "ac4c6a6a-57fb-488d-b660-c75f7d15fc85",
   "metadata": {},
   "outputs": [],
   "source": [
    "import numpy as np\n",
    "from sklearn.datasets import fetch_california_housing\n",
    "from sklearn.model_selection import train_test_split, cross_validate\n",
    "from sklearn.linear_model import LinearRegression\n",
    "from sklearn.preprocessing import StandardScaler\n",
    "from sklearn.impute import SimpleImputer\n",
    "from sklearn.pipeline import Pipeline"
   ]
  },
  {
   "cell_type": "code",
   "execution_count": 3,
   "id": "8dad48cb-cc12-40d8-ac51-71eb5b66e39e",
   "metadata": {},
   "outputs": [],
   "source": [
    "# Load data\n",
    "housing = fetch_california_housing()\n",
    "X, y = housing['data'], housing['target']\n",
    "\n",
    "# Split data train test\n",
    "X_train, X_test, y_train, y_test = train_test_split(\n",
    "    X, y, test_size=0.1, shuffle=True, random_state=43\n",
    ")\n",
    "\n",
    "# Create pipeline\n",
    "pipeline = [\n",
    "    ('imputer', SimpleImputer(strategy='median')),\n",
    "    ('scaler', StandardScaler()),\n",
    "    ('lr', LinearRegression())\n",
    "]\n",
    "pipe = Pipeline(pipeline)"
   ]
  },
  {
   "cell_type": "code",
   "execution_count": null,
   "id": "2912a433-a495-49db-8386-418acc1cf7f2",
   "metadata": {},
   "outputs": [],
   "source": []
  }
 ],
 "metadata": {
  "kernelspec": {
   "display_name": "Python 3 (ipykernel)",
   "language": "python",
   "name": "python3"
  },
  "language_info": {
   "codemirror_mode": {
    "name": "ipython",
    "version": 3
   },
   "file_extension": ".py",
   "mimetype": "text/x-python",
   "name": "python",
   "nbconvert_exporter": "python",
   "pygments_lexer": "ipython3",
   "version": "3.12.11"
  }
 },
 "nbformat": 4,
 "nbformat_minor": 5
}
