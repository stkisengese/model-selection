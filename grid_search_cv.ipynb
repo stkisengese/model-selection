{
 "cells": [
  {
   "cell_type": "code",
   "execution_count": 2,
   "id": "2df97c7e-1860-49ad-b13d-dccb61d951e2",
   "metadata": {},
   "outputs": [],
   "source": [
    "# Exercise 3: GridSearchCV"
   ]
  },
  {
   "cell_type": "code",
   "execution_count": 3,
   "id": "fed5285d-13d2-4bc2-8cd7-4bc428b32c14",
   "metadata": {},
   "outputs": [],
   "source": [
    "from sklearn.datasets import fetch_california_housing\n",
    "from sklearn.model_selection import train_test_split, GridSearchCV\n",
    "from sklearn.ensemble import RandomForestRegressor\n",
    "import numpy as np"
   ]
  },
  {
   "cell_type": "code",
   "execution_count": null,
   "id": "9eaa90cf-9872-45fa-85ac-feb8f7622780",
   "metadata": {},
   "outputs": [
    {
     "name": "stdout",
     "output_type": "stream",
     "text": [
      "Fitting 5 folds for each of 9 candidates, totalling 45 fits\n"
     ]
    }
   ],
   "source": [
    "# Load data\n",
    "housing = fetch_california_housing()\n",
    "X, y = housing['data'], housing['target']\n",
    "\n",
    "# Split data\n",
    "X_train, X_test, y_train, y_test = train_test_split(\n",
    "    X, y, test_size=0.1, shuffle=True, random_state=43\n",
    ")\n",
    "\n",
    "# Define model\n",
    "rf = RandomForestRegressor(random_state=43)\n",
    "\n",
    "# Parameter grid (minimum 3 values each)\n",
    "param_grid = {\n",
    "    'max_depth': [5, 10, 20],          # You can expand later\n",
    "    'n_estimators': [10, 50, 100]\n",
    "}\n",
    "\n",
    "# GridSearchCV with 5-fold CV, MSE scoring\n",
    "grid_search = GridSearchCV(\n",
    "    estimator=rf,\n",
    "    param_grid=param_grid,\n",
    "    cv=5,\n",
    "    scoring='neg_mean_squared_error',  # sklearn minimizes negative MSE\n",
    "    n_jobs=-1,  # Use all CPUs\n",
    "    verbose=1\n",
    ")\n",
    "\n",
    "# Fit\n",
    "grid_search.fit(X_train, y_train)"
   ]
  },
  {
   "cell_type": "code",
   "execution_count": null,
   "id": "76b92397-4c26-4674-8951-100e3a6b424f",
   "metadata": {},
   "outputs": [],
   "source": []
  }
 ],
 "metadata": {
  "kernelspec": {
   "display_name": "Python 3 (ipykernel)",
   "language": "python",
   "name": "python3"
  },
  "language_info": {
   "codemirror_mode": {
    "name": "ipython",
    "version": 3
   },
   "file_extension": ".py",
   "mimetype": "text/x-python",
   "name": "python",
   "nbconvert_exporter": "python",
   "pygments_lexer": "ipython3",
   "version": "3.12.11"
  }
 },
 "nbformat": 4,
 "nbformat_minor": 5
}
